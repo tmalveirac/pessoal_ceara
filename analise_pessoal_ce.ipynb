{
  "nbformat": 4,
  "nbformat_minor": 0,
  "metadata": {
    "colab": {
      "name": "analise_pessoal_ce.ipynb",
      "provenance": [],
      "collapsed_sections": [],
      "toc_visible": true,
      "authorship_tag": "ABX9TyPDoRgfMqPrMqp33DzRcICZ",
      "include_colab_link": true
    },
    "kernelspec": {
      "name": "python3",
      "display_name": "Python 3"
    }
  },
  "cells": [
    {
      "cell_type": "markdown",
      "metadata": {
        "id": "view-in-github",
        "colab_type": "text"
      },
      "source": [
        "<a href=\"https://colab.research.google.com/github/tmalveirac/pessoal_ceara/blob/master/analise_pessoal_ce.ipynb\" target=\"_parent\"><img src=\"https://colab.research.google.com/assets/colab-badge.svg\" alt=\"Open In Colab\"/></a>"
      ]
    },
    {
      "cell_type": "markdown",
      "metadata": {
        "id": "icwGhaCxp6xA",
        "colab_type": "text"
      },
      "source": [
        "# Análise Pessoal Ceará - Dados 03/2020\n",
        "\n",
        "Fonte: https://cearatransparente.ce.gov.br/"
      ]
    },
    {
      "cell_type": "code",
      "metadata": {
        "id": "leY8yvepqHTo",
        "colab_type": "code",
        "colab": {}
      },
      "source": [
        "import pandas as pd\n",
        "import matplotlib.pyplot as plt\n",
        "pd.options.display.float_format = '{:,.2f}'.format\n",
        "plt.rcParams['figure.figsize'] = (20,7)"
      ],
      "execution_count": 0,
      "outputs": []
    },
    {
      "cell_type": "markdown",
      "metadata": {
        "id": "PBK9tozfqb_5",
        "colab_type": "text"
      },
      "source": [
        "### Importação e tratamento inicial dos dados"
      ]
    },
    {
      "cell_type": "code",
      "metadata": {
        "id": "8qTIG_KGqKUO",
        "colab_type": "code",
        "colab": {
          "base_uri": "https://localhost:8080/",
          "height": 305
        },
        "outputId": "ec9456e1-4616-46c3-8f9a-113a4f485fb3"
      },
      "source": [
        "df = pd.read_csv('/content/CE_202003.csv', header=None, names=['Servidor',\t'Órgão/Entidade',\t'Cargo/Função/Emprego',\t'Situação funcional',\t'Total descontos',\t'Abatimento em função do teto constitucional',\t'Outros descontos',\t'Salário bruto',\t'Salário líquido',\t'Diárias'])\n",
        "print(df.shape)\n",
        "df.describe()"
      ],
      "execution_count": 3,
      "outputs": [
        {
          "output_type": "stream",
          "text": [
            "(169619, 10)\n"
          ],
          "name": "stdout"
        },
        {
          "output_type": "execute_result",
          "data": {
            "text/html": [
              "<div>\n",
              "<style scoped>\n",
              "    .dataframe tbody tr th:only-of-type {\n",
              "        vertical-align: middle;\n",
              "    }\n",
              "\n",
              "    .dataframe tbody tr th {\n",
              "        vertical-align: top;\n",
              "    }\n",
              "\n",
              "    .dataframe thead th {\n",
              "        text-align: right;\n",
              "    }\n",
              "</style>\n",
              "<table border=\"1\" class=\"dataframe\">\n",
              "  <thead>\n",
              "    <tr style=\"text-align: right;\">\n",
              "      <th></th>\n",
              "      <th>Total descontos</th>\n",
              "      <th>Abatimento em função do teto constitucional</th>\n",
              "      <th>Outros descontos</th>\n",
              "      <th>Salário bruto</th>\n",
              "      <th>Salário líquido</th>\n",
              "      <th>Diárias</th>\n",
              "    </tr>\n",
              "  </thead>\n",
              "  <tbody>\n",
              "    <tr>\n",
              "      <th>count</th>\n",
              "      <td>169,619.00</td>\n",
              "      <td>169,619.00</td>\n",
              "      <td>169,619.00</td>\n",
              "      <td>169,619.00</td>\n",
              "      <td>169,619.00</td>\n",
              "      <td>169,619.00</td>\n",
              "    </tr>\n",
              "    <tr>\n",
              "      <th>mean</th>\n",
              "      <td>1,405.23</td>\n",
              "      <td>50.63</td>\n",
              "      <td>1,354.60</td>\n",
              "      <td>4,410.97</td>\n",
              "      <td>3,005.74</td>\n",
              "      <td>4.19</td>\n",
              "    </tr>\n",
              "    <tr>\n",
              "      <th>std</th>\n",
              "      <td>2,436.99</td>\n",
              "      <td>683.26</td>\n",
              "      <td>2,191.78</td>\n",
              "      <td>4,743.46</td>\n",
              "      <td>2,715.76</td>\n",
              "      <td>72.15</td>\n",
              "    </tr>\n",
              "    <tr>\n",
              "      <th>min</th>\n",
              "      <td>0.00</td>\n",
              "      <td>0.00</td>\n",
              "      <td>0.00</td>\n",
              "      <td>0.03</td>\n",
              "      <td>0.00</td>\n",
              "      <td>0.00</td>\n",
              "    </tr>\n",
              "    <tr>\n",
              "      <th>25%</th>\n",
              "      <td>164.33</td>\n",
              "      <td>0.00</td>\n",
              "      <td>164.33</td>\n",
              "      <td>1,537.28</td>\n",
              "      <td>1,254.18</td>\n",
              "      <td>0.00</td>\n",
              "    </tr>\n",
              "    <tr>\n",
              "      <th>50%</th>\n",
              "      <td>622.84</td>\n",
              "      <td>0.00</td>\n",
              "      <td>622.14</td>\n",
              "      <td>3,279.25</td>\n",
              "      <td>2,464.00</td>\n",
              "      <td>0.00</td>\n",
              "    </tr>\n",
              "    <tr>\n",
              "      <th>75%</th>\n",
              "      <td>1,766.99</td>\n",
              "      <td>0.00</td>\n",
              "      <td>1,764.49</td>\n",
              "      <td>5,614.96</td>\n",
              "      <td>3,762.18</td>\n",
              "      <td>0.00</td>\n",
              "    </tr>\n",
              "    <tr>\n",
              "      <th>max</th>\n",
              "      <td>50,136.81</td>\n",
              "      <td>40,428.69</td>\n",
              "      <td>41,213.25</td>\n",
              "      <td>156,755.80</td>\n",
              "      <td>115,542.55</td>\n",
              "      <td>14,313.32</td>\n",
              "    </tr>\n",
              "  </tbody>\n",
              "</table>\n",
              "</div>"
            ],
            "text/plain": [
              "       Total descontos  ...    Diárias\n",
              "count       169,619.00  ... 169,619.00\n",
              "mean          1,405.23  ...       4.19\n",
              "std           2,436.99  ...      72.15\n",
              "min               0.00  ...       0.00\n",
              "25%             164.33  ...       0.00\n",
              "50%             622.84  ...       0.00\n",
              "75%           1,766.99  ...       0.00\n",
              "max          50,136.81  ...  14,313.32\n",
              "\n",
              "[8 rows x 6 columns]"
            ]
          },
          "metadata": {
            "tags": []
          },
          "execution_count": 3
        }
      ]
    },
    {
      "cell_type": "code",
      "metadata": {
        "id": "PZzTahY710S6",
        "colab_type": "code",
        "colab": {}
      },
      "source": [
        "#Salário já descontando o abate teto\n",
        "df['salario_com_abate_teto'] = df['Salário bruto'] - df['Abatimento em função do teto constitucional']"
      ],
      "execution_count": 0,
      "outputs": []
    },
    {
      "cell_type": "markdown",
      "metadata": {
        "id": "jODPNKgyupfj",
        "colab_type": "text"
      },
      "source": [
        "### Análise exploratória - Por Órgão"
      ]
    },
    {
      "cell_type": "code",
      "metadata": {
        "id": "vO7LFQtByTkI",
        "colab_type": "code",
        "colab": {
          "base_uri": "https://localhost:8080/",
          "height": 176
        },
        "outputId": "1ccbf554-35e3-4dff-bb48-80ee6023dd2d"
      },
      "source": [
        "#Qtd por órgão\n",
        "qtd_orgao_df = df['Órgão/Entidade'].value_counts()\n",
        "qtd_orgao_df.describe()"
      ],
      "execution_count": 5,
      "outputs": [
        {
          "output_type": "execute_result",
          "data": {
            "text/plain": [
              "count       55.00\n",
              "mean     3,083.98\n",
              "std      8,663.76\n",
              "min         16.00\n",
              "25%        106.00\n",
              "50%        312.00\n",
              "75%      1,604.50\n",
              "max     52,681.00\n",
              "Name: Órgão/Entidade, dtype: float64"
            ]
          },
          "metadata": {
            "tags": []
          },
          "execution_count": 5
        }
      ]
    },
    {
      "cell_type": "code",
      "metadata": {
        "id": "Br3zbkei5GCh",
        "colab_type": "code",
        "colab": {
          "base_uri": "https://localhost:8080/",
          "height": 212
        },
        "outputId": "ffac92e9-cea1-46b1-b180-99fbe550250b"
      },
      "source": [
        "#Quantidade em Percentual \n",
        "df['Órgão/Entidade'].value_counts(normalize=True).sort_values(ascending=False).head(10) * 100"
      ],
      "execution_count": 6,
      "outputs": [
        {
          "output_type": "execute_result",
          "data": {
            "text/plain": [
              "SEDUC        31.06\n",
              "PMCE         18.86\n",
              "SEDUC-CPTD   10.97\n",
              "SESA          9.25\n",
              "SUPSEC        4.21\n",
              "SESA-ACS      3.96\n",
              "PC            3.19\n",
              "SAP           2.56\n",
              "FUNECE        1.55\n",
              "SEFAZ         1.54\n",
              "Name: Órgão/Entidade, dtype: float64"
            ]
          },
          "metadata": {
            "tags": []
          },
          "execution_count": 6
        }
      ]
    },
    {
      "cell_type": "code",
      "metadata": {
        "id": "-D7Qz6x4zK8M",
        "colab_type": "code",
        "colab": {
          "base_uri": "https://localhost:8080/",
          "height": 212
        },
        "outputId": "fdf767d9-03cb-412b-d7ae-4caffb47a488"
      },
      "source": [
        "qtd_orgao_df.sort_values(ascending=False).tail(10)"
      ],
      "execution_count": 7,
      "outputs": [
        {
          "output_type": "execute_result",
          "data": {
            "text/plain": [
              "CIDADES     76\n",
              "SECITECE    74\n",
              "ARCE        71\n",
              "SEMA        47\n",
              "SEDET       40\n",
              "FUNCAP      38\n",
              "SETUR       37\n",
              "IPECE       30\n",
              "EGPCE       21\n",
              "VICEGOV     16\n",
              "Name: Órgão/Entidade, dtype: int64"
            ]
          },
          "metadata": {
            "tags": []
          },
          "execution_count": 7
        }
      ]
    },
    {
      "cell_type": "code",
      "metadata": {
        "id": "8MjqprTUutJZ",
        "colab_type": "code",
        "colab": {
          "base_uri": "https://localhost:8080/",
          "height": 443
        },
        "outputId": "2c1bad2f-6974-4334-b529-9017048d0567"
      },
      "source": [
        "qtd_orgao_df.sort_values(ascending=False).head(10).plot(kind='bar')\n",
        "plt.grid(axis='y')\n",
        "plt.xticks(rotation='45')\n",
        "plt.show()"
      ],
      "execution_count": 8,
      "outputs": [
        {
          "output_type": "display_data",
          "data": {
            "image/png": "[encoded data removed]",
            "text/plain": [
              "<Figure size 1440x504 with 1 Axes>"
            ]
          },
          "metadata": {
            "tags": [],
            "needs_background": "light"
          }
        }
      ]
    },
    {
      "cell_type": "code",
      "metadata": {
        "id": "ElWs7dUHuuL-",
        "colab_type": "code",
        "colab": {
          "base_uri": "https://localhost:8080/",
          "height": 176
        },
        "outputId": "b0e18c20-58e0-40e3-fbe1-b46331aea203"
      },
      "source": [
        "#Valor por órgão\n",
        "valor_orgao_df = df.groupby('Órgão/Entidade')['salario_com_abate_teto'].sum()\n",
        "valor_orgao_df.describe()"
      ],
      "execution_count": 9,
      "outputs": [
        {
          "output_type": "execute_result",
          "data": {
            "text/plain": [
              "count            55.00\n",
              "mean     13,447,212.01\n",
              "std      33,625,913.63\n",
              "min          53,801.91\n",
              "25%         450,920.69\n",
              "50%       1,389,427.14\n",
              "75%       7,574,280.98\n",
              "max     177,845,872.23\n",
              "Name: salario_com_abate_teto, dtype: float64"
            ]
          },
          "metadata": {
            "tags": []
          },
          "execution_count": 9
        }
      ]
    },
    {
      "cell_type": "code",
      "metadata": {
        "id": "t1uYlMVXzi6C",
        "colab_type": "code",
        "colab": {
          "base_uri": "https://localhost:8080/",
          "height": 230
        },
        "outputId": "046be405-43df-46d5-e86e-00545de0dcb2"
      },
      "source": [
        "valor_orgao_df.sort_values(ascending=False).tail(10)"
      ],
      "execution_count": 10,
      "outputs": [
        {
          "output_type": "execute_result",
          "data": {
            "text/plain": [
              "Órgão/Entidade\n",
              "SECITECE   355,344.45\n",
              "SEJUV      284,009.79\n",
              "IPECE      275,751.26\n",
              "CEE        211,146.72\n",
              "SEDET      202,880.07\n",
              "SEMA       168,005.71\n",
              "SETUR      140,531.14\n",
              "FUNCAP      93,933.45\n",
              "VICEGOV     91,955.37\n",
              "EGPCE       53,801.91\n",
              "Name: salario_com_abate_teto, dtype: float64"
            ]
          },
          "metadata": {
            "tags": []
          },
          "execution_count": 10
        }
      ]
    },
    {
      "cell_type": "code",
      "metadata": {
        "id": "fBQXh17k-DLU",
        "colab_type": "code",
        "colab": {
          "base_uri": "https://localhost:8080/",
          "height": 230
        },
        "outputId": "2e0833d9-26bb-4e1e-e934-b5240e1675a2"
      },
      "source": [
        "#Valor em Percentual\n",
        "valor_perc_orgao_df = valor_orgao_df * 100 / valor_orgao_df.sum()\n",
        "valor_perc_orgao_df.sort_values(ascending=False).head(10)"
      ],
      "execution_count": 11,
      "outputs": [
        {
          "output_type": "execute_result",
          "data": {
            "text/plain": [
              "Órgão/Entidade\n",
              "SEDUC        24.05\n",
              "PMCE         22.01\n",
              "SEFAZ         8.59\n",
              "SESA          7.56\n",
              "PC            5.36\n",
              "SEDUC-CPTD    4.30\n",
              "SUPSEC        3.96\n",
              "SAP           3.43\n",
              "FUNECE        3.32\n",
              "CBMCE         2.44\n",
              "Name: salario_com_abate_teto, dtype: float64"
            ]
          },
          "metadata": {
            "tags": []
          },
          "execution_count": 11
        }
      ]
    },
    {
      "cell_type": "code",
      "metadata": {
        "id": "JOTjsYDuy2ud",
        "colab_type": "code",
        "colab": {
          "base_uri": "https://localhost:8080/",
          "height": 473
        },
        "outputId": "709f062c-d1c7-4c4c-b24e-7fa556f5a96b"
      },
      "source": [
        "valor_orgao_df.sort_values(ascending=False).head(10).plot(kind='bar')\n",
        "plt.grid(axis='y')\n",
        "plt.ticklabel_format(axis=\"y\", style=\"sci\", scilimits=(6,6)) #Em milhões\n",
        "plt.xticks(rotation='45')\n",
        "plt.show()"
      ],
      "execution_count": 12,
      "outputs": [
        {
          "output_type": "display_data",
          "data": {
            "image/png": "[encoded data removed]",
            "text/plain": [
              "<Figure size 1440x504 with 1 Axes>"
            ]
          },
          "metadata": {
            "tags": [],
            "needs_background": "light"
          }
        }
      ]
    },
    {
      "cell_type": "markdown",
      "metadata": {
        "id": "PDn52tU5z1Sv",
        "colab_type": "text"
      },
      "source": [
        "### Análise exploratória - Por Cargo"
      ]
    },
    {
      "cell_type": "code",
      "metadata": {
        "id": "73yMn7Bgz28z",
        "colab_type": "code",
        "colab": {
          "base_uri": "https://localhost:8080/",
          "height": 176
        },
        "outputId": "1ac7fea7-3f36-4901-aa20-5b4462a89f3f"
      },
      "source": [
        "#Qtd por cargo\n",
        "qtd_cargo_df = df['Cargo/Função/Emprego'].value_counts()\n",
        "qtd_cargo_df.describe()"
      ],
      "execution_count": 13,
      "outputs": [
        {
          "output_type": "execute_result",
          "data": {
            "text/plain": [
              "count      600.00\n",
              "mean       278.77\n",
              "std      1,912.94\n",
              "min          1.00\n",
              "25%          1.00\n",
              "50%          5.50\n",
              "75%         45.00\n",
              "max     38,803.00\n",
              "Name: Cargo/Função/Emprego, dtype: float64"
            ]
          },
          "metadata": {
            "tags": []
          },
          "execution_count": 13
        }
      ]
    },
    {
      "cell_type": "code",
      "metadata": {
        "id": "68toDUoH7N-E",
        "colab_type": "code",
        "colab": {
          "base_uri": "https://localhost:8080/",
          "height": 212
        },
        "outputId": "588031fd-722a-4f54-97de-afbadb6bce46"
      },
      "source": [
        "#Quantidade em Percentual \n",
        "df['Cargo/Função/Emprego'].value_counts(normalize=True).sort_values(ascending=False).head(10) * 100"
      ],
      "execution_count": 14,
      "outputs": [
        {
          "output_type": "execute_result",
          "data": {
            "text/plain": [
              "PROFESSOR                     23.20\n",
              "PROF CTPD LP                  10.17\n",
              "SOLDADO PRONTO                 5.77\n",
              "AUXILIAR DE SERVICOS GERAIS    5.74\n",
              "PENSAO CIVIL                   4.54\n",
              "AG COMUN SAUDE                 4.02\n",
              "AGENTE DE ADMINISTRACAO        2.85\n",
              "PEN MONTEP MIL                 2.76\n",
              "CABO                           2.63\n",
              "SUBTENENTE                     2.34\n",
              "Name: Cargo/Função/Emprego, dtype: float64"
            ]
          },
          "metadata": {
            "tags": []
          },
          "execution_count": 14
        }
      ]
    },
    {
      "cell_type": "code",
      "metadata": {
        "id": "9nr16UOA0Auh",
        "colab_type": "code",
        "colab": {
          "base_uri": "https://localhost:8080/",
          "height": 503
        },
        "outputId": "9f31f98d-6792-4959-96dd-e80edf14e950"
      },
      "source": [
        "qtd_cargo_df.sort_values(ascending=False).head(10).plot(kind='bar')\n",
        "plt.grid(axis='y')\n",
        "plt.xticks(rotation='45')\n",
        "plt.show()"
      ],
      "execution_count": 15,
      "outputs": [
        {
          "output_type": "display_data",
          "data": {
            "image/png": "[encoded data removed]",
            "text/plain": [
              "<Figure size 1440x504 with 1 Axes>"
            ]
          },
          "metadata": {
            "tags": [],
            "needs_background": "light"
          }
        }
      ]
    },
    {
      "cell_type": "code",
      "metadata": {
        "id": "x8tiZvwa0NYV",
        "colab_type": "code",
        "colab": {
          "base_uri": "https://localhost:8080/",
          "height": 176
        },
        "outputId": "37690dcc-8dc9-495e-fb63-52ba8f804897"
      },
      "source": [
        "#Valor por órgão\n",
        "valor_cargo_df = df.groupby('Cargo/Função/Emprego')['salario_com_abate_teto'].sum()\n",
        "valor_cargo_df.describe()"
      ],
      "execution_count": 16,
      "outputs": [
        {
          "output_type": "execute_result",
          "data": {
            "text/plain": [
              "count           600.00\n",
              "mean      1,224,006.13\n",
              "std       8,277,203.07\n",
              "min              58.05\n",
              "25%           8,412.41\n",
              "50%          22,155.83\n",
              "75%         215,540.16\n",
              "max     182,465,838.05\n",
              "Name: salario_com_abate_teto, dtype: float64"
            ]
          },
          "metadata": {
            "tags": []
          },
          "execution_count": 16
        }
      ]
    },
    {
      "cell_type": "code",
      "metadata": {
        "id": "gSusDU_W1YmG",
        "colab_type": "code",
        "colab": {
          "base_uri": "https://localhost:8080/",
          "height": 230
        },
        "outputId": "0e3c8aac-c797-4516-c20c-8b2d110b51d3"
      },
      "source": [
        "valor_cargo_df.sort_values(ascending=False).tail(10)"
      ],
      "execution_count": 17,
      "outputs": [
        {
          "output_type": "execute_result",
          "data": {
            "text/plain": [
              "Cargo/Função/Emprego\n",
              "ARQUIVISTA TAPE               1,045.00\n",
              "PROGRAM MUSICAL               1,045.00\n",
              "PRESTADOR DE SERVICO          1,045.00\n",
              "AGENTE ADM POL                1,045.00\n",
              "ASSIST JURIDICO               1,045.00\n",
              "AUX SERV SAUDE                1,045.00\n",
              "ASSESSOR EXECUTIVO DO PACTO     990.42\n",
              "Delegado Adjunto I              814.28\n",
              "PREST SERVICOS                  225.58\n",
              "DAS-1 - COORDENADOR ESCOLAR      58.05\n",
              "Name: salario_com_abate_teto, dtype: float64"
            ]
          },
          "metadata": {
            "tags": []
          },
          "execution_count": 17
        }
      ]
    },
    {
      "cell_type": "code",
      "metadata": {
        "id": "Bt10wSWY-LcD",
        "colab_type": "code",
        "colab": {
          "base_uri": "https://localhost:8080/",
          "height": 230
        },
        "outputId": "ceb05d27-d652-41b6-e14c-531398becb52"
      },
      "source": [
        "#Valor em Percentual\n",
        "valor_perc_cargo_df = valor_cargo_df * 100 / valor_orgao_df.sum()\n",
        "valor_perc_cargo_df.sort_values(ascending=False).head(10)"
      ],
      "execution_count": 18,
      "outputs": [
        {
          "output_type": "execute_result",
          "data": {
            "text/plain": [
              "Cargo/Função/Emprego\n",
              "PROFESSOR                                    24.67\n",
              "SOLDADO PRONTO                                6.04\n",
              "PROF CTPD LP                                  3.96\n",
              "PENSAO CIVIL                                  3.66\n",
              "SUBTENENTE                                    3.47\n",
              "AGENTE PENITENCIARIO                          3.17\n",
              "AUDITOR FISCAL DA RECEITA ESTADUAL            3.03\n",
              "MEDICO                                        2.87\n",
              "CABO                                          2.85\n",
              "AUDITOR FISCAL ADJUNTO DA RECEITA ESTADUAL    2.59\n",
              "Name: salario_com_abate_teto, dtype: float64"
            ]
          },
          "metadata": {
            "tags": []
          },
          "execution_count": 18
        }
      ]
    },
    {
      "cell_type": "code",
      "metadata": {
        "id": "n0jjKkPp0zeh",
        "colab_type": "code",
        "colab": {
          "base_uri": "https://localhost:8080/",
          "height": 577
        },
        "outputId": "5a7b4cba-52ef-4c7e-b99d-d7a84d52a360"
      },
      "source": [
        "valor_cargo_df.sort_values(ascending=False).head(10).plot(kind='bar')\n",
        "plt.grid(axis='y')\n",
        "plt.ticklabel_format(axis=\"y\", style=\"sci\", scilimits=(6,6)) #Em milhões\n",
        "plt.xticks(rotation='45')\n",
        "plt.show()"
      ],
      "execution_count": 19,
      "outputs": [
        {
          "output_type": "display_data",
          "data": {
            "image/png": "[encoded data removed]",
            "text/plain": [
              "<Figure size 1440x504 with 1 Axes>"
            ]
          },
          "metadata": {
            "tags": [],
            "needs_background": "light"
          }
        }
      ]
    },
    {
      "cell_type": "markdown",
      "metadata": {
        "id": "EGSQCDJu2qOb",
        "colab_type": "text"
      },
      "source": [
        "### Análise exploratória - Por Situação Funcional"
      ]
    },
    {
      "cell_type": "code",
      "metadata": {
        "id": "UYjpd53x2tOW",
        "colab_type": "code",
        "colab": {
          "base_uri": "https://localhost:8080/",
          "height": 176
        },
        "outputId": "72a6fbf7-38d6-4b5c-9123-a7481d5ec332"
      },
      "source": [
        "#Qtd por Situação funcional\n",
        "qtd_sit_df = df['Situação funcional'].value_counts()\n",
        "qtd_sit_df.describe()"
      ],
      "execution_count": 20,
      "outputs": [
        {
          "output_type": "execute_result",
          "data": {
            "text/plain": [
              "count         4.00\n",
              "mean     41,849.50\n",
              "std      43,594.36\n",
              "min         703.00\n",
              "25%      14,458.00\n",
              "50%      33,003.00\n",
              "75%      60,394.50\n",
              "max     100,689.00\n",
              "Name: Situação funcional, dtype: float64"
            ]
          },
          "metadata": {
            "tags": []
          },
          "execution_count": 20
        }
      ]
    },
    {
      "cell_type": "code",
      "metadata": {
        "id": "gBRqx0VJ72cb",
        "colab_type": "code",
        "colab": {
          "base_uri": "https://localhost:8080/",
          "height": 105
        },
        "outputId": "93103739-228c-4524-98a5-4bf1fe5b9ab2"
      },
      "source": [
        "#Quantidade em Percentual \n",
        "df['Situação funcional'].value_counts(normalize=True).sort_values(ascending=False).head(10) * 100"
      ],
      "execution_count": 21,
      "outputs": [
        {
          "output_type": "execute_result",
          "data": {
            "text/plain": [
              "Ativo                 60.15\n",
              "Aposentado            28.05\n",
              "Pensionista           11.38\n",
              "Estagiágio/Bolsista    0.42\n",
              "Name: Situação funcional, dtype: float64"
            ]
          },
          "metadata": {
            "tags": []
          },
          "execution_count": 21
        }
      ]
    },
    {
      "cell_type": "code",
      "metadata": {
        "id": "GTG0XQsI21BG",
        "colab_type": "code",
        "colab": {
          "base_uri": "https://localhost:8080/",
          "height": 461
        },
        "outputId": "f59525d5-f1fd-4268-f1df-7443115709af"
      },
      "source": [
        "qtd_sit_df.sort_values(ascending=False).head(10).plot(kind='bar')\n",
        "plt.grid(axis='y')\n",
        "plt.xticks(rotation='45')\n",
        "plt.show()"
      ],
      "execution_count": 22,
      "outputs": [
        {
          "output_type": "display_data",
          "data": {
            "image/png": "[encoded data removed]",
            "text/plain": [
              "<Figure size 1440x504 with 1 Axes>"
            ]
          },
          "metadata": {
            "tags": [],
            "needs_background": "light"
          }
        }
      ]
    },
    {
      "cell_type": "code",
      "metadata": {
        "id": "8KtKkyq-26_s",
        "colab_type": "code",
        "colab": {
          "base_uri": "https://localhost:8080/",
          "height": 176
        },
        "outputId": "45fabfa0-59d2-4cfd-c58c-416bab26a3d9"
      },
      "source": [
        "#Valor por situação\n",
        "valor_sit_df = df.groupby('Situação funcional')['salario_com_abate_teto'].sum()\n",
        "valor_sit_df.describe()"
      ],
      "execution_count": 23,
      "outputs": [
        {
          "output_type": "execute_result",
          "data": {
            "text/plain": [
              "count             4.00\n",
              "mean    181,870,813.91\n",
              "std     212,037,616.87\n",
              "min         370,235.72\n",
              "25%      48,780,527.02\n",
              "50%     124,080,382.79\n",
              "75%     257,170,669.68\n",
              "max     478,952,254.35\n",
              "Name: salario_com_abate_teto, dtype: float64"
            ]
          },
          "metadata": {
            "tags": []
          },
          "execution_count": 23
        }
      ]
    },
    {
      "cell_type": "code",
      "metadata": {
        "id": "Q5WGmBTr3LRU",
        "colab_type": "code",
        "colab": {
          "base_uri": "https://localhost:8080/",
          "height": 123
        },
        "outputId": "158ec061-b4b3-48d7-9647-794e07897bc1"
      },
      "source": [
        "valor_sit_df.sort_values(ascending=False).tail(10)"
      ],
      "execution_count": 24,
      "outputs": [
        {
          "output_type": "execute_result",
          "data": {
            "text/plain": [
              "Situação funcional\n",
              "Ativo                 478,952,254.35\n",
              "Aposentado            183,243,474.79\n",
              "Pensionista            64,917,290.78\n",
              "Estagiágio/Bolsista       370,235.72\n",
              "Name: salario_com_abate_teto, dtype: float64"
            ]
          },
          "metadata": {
            "tags": []
          },
          "execution_count": 24
        }
      ]
    },
    {
      "cell_type": "code",
      "metadata": {
        "id": "SXJ2ehU6-VMn",
        "colab_type": "code",
        "colab": {
          "base_uri": "https://localhost:8080/",
          "height": 123
        },
        "outputId": "d12fd73b-f1e4-4133-bbba-01650bcdf2d7"
      },
      "source": [
        "#Percentual\n",
        "valor_perc_sit_df = valor_sit_df * 100 / valor_sit_df.sum()\n",
        "valor_perc_sit_df.sort_values(ascending=False)"
      ],
      "execution_count": 25,
      "outputs": [
        {
          "output_type": "execute_result",
          "data": {
            "text/plain": [
              "Situação funcional\n",
              "Ativo                 65.84\n",
              "Aposentado            25.19\n",
              "Pensionista            8.92\n",
              "Estagiágio/Bolsista    0.05\n",
              "Name: salario_com_abate_teto, dtype: float64"
            ]
          },
          "metadata": {
            "tags": []
          },
          "execution_count": 25
        }
      ]
    },
    {
      "cell_type": "code",
      "metadata": {
        "id": "HqYoyZiI3PeD",
        "colab_type": "code",
        "colab": {
          "base_uri": "https://localhost:8080/",
          "height": 492
        },
        "outputId": "fa7fef55-673a-4995-85fb-430b69d63020"
      },
      "source": [
        "valor_sit_df.sort_values(ascending=False).head(10).plot(kind='bar')\n",
        "plt.grid(axis='y')\n",
        "plt.ticklabel_format(axis=\"y\", style=\"sci\", scilimits=(6,6)) #Em milhões\n",
        "plt.xticks(rotation='45')\n",
        "plt.show()"
      ],
      "execution_count": 26,
      "outputs": [
        {
          "output_type": "display_data",
          "data": {
            "image/png": "[encoded data removed]",
            "text/plain": [
              "<Figure size 1440x504 with 1 Axes>"
            ]
          },
          "metadata": {
            "tags": [],
            "needs_background": "light"
          }
        }
      ]
    },
    {
      "cell_type": "markdown",
      "metadata": {
        "id": "i-fVfXKe_akN",
        "colab_type": "text"
      },
      "source": [
        "### Análise - Acumulação de Cargos"
      ]
    },
    {
      "cell_type": "code",
      "metadata": {
        "id": "xermz73xBK8M",
        "colab_type": "code",
        "colab": {
          "base_uri": "https://localhost:8080/",
          "height": 176
        },
        "outputId": "e070f39a-81ac-45a5-e3e7-8c3ae5fc15d8"
      },
      "source": [
        "#Qtd nome\n",
        "qtd_nome_df = df['Servidor'].value_counts()\n",
        "qtd_nome_df.describe()"
      ],
      "execution_count": 38,
      "outputs": [
        {
          "output_type": "execute_result",
          "data": {
            "text/plain": [
              "count   147,283.00\n",
              "mean          1.15\n",
              "std           0.52\n",
              "min           1.00\n",
              "25%           1.00\n",
              "50%           1.00\n",
              "75%           1.00\n",
              "max          25.00\n",
              "Name: Servidor, dtype: float64"
            ]
          },
          "metadata": {
            "tags": []
          },
          "execution_count": 38
        }
      ]
    },
    {
      "cell_type": "code",
      "metadata": {
        "id": "tTRKTI7RC8Ie",
        "colab_type": "code",
        "colab": {
          "base_uri": "https://localhost:8080/",
          "height": 176
        },
        "outputId": "517a79d6-4c11-4760-e619-1ca43da9ade6"
      },
      "source": [
        "qtd_nome__mult_df = qtd_nome_df[qtd_nome_df > 1]\n",
        "qtd_nome__mult_df.describe()"
      ],
      "execution_count": 42,
      "outputs": [
        {
          "output_type": "execute_result",
          "data": {
            "text/plain": [
              "count   17,048.00\n",
              "mean         2.31\n",
              "std          0.92\n",
              "min          2.00\n",
              "25%          2.00\n",
              "50%          2.00\n",
              "75%          2.00\n",
              "max         25.00\n",
              "Name: Servidor, dtype: float64"
            ]
          },
          "metadata": {
            "tags": []
          },
          "execution_count": 42
        }
      ]
    },
    {
      "cell_type": "code",
      "metadata": {
        "id": "PCXg8AqgC8cF",
        "colab_type": "code",
        "colab": {
          "base_uri": "https://localhost:8080/",
          "height": 390
        },
        "outputId": "a2e8479a-2bd1-4a22-f520-a49732758d75"
      },
      "source": [
        "qtd_nome__mult_df.sort_values(ascending=False).head(20)"
      ],
      "execution_count": 43,
      "outputs": [
        {
          "output_type": "execute_result",
          "data": {
            "text/plain": [
              "MARIA DE FATIMA DA SILVA        25\n",
              "RAIMUNDO NONATO DA SILVA        23\n",
              "MARIA DO SOCORRO DA SILVA       22\n",
              "MARIA JOSE DA SILVA             21\n",
              "FRANCISCO JOSE DA SILVA         20\n",
              "FRANCISCO ALVES DA SILVA        18\n",
              "MARIA DE LOURDES DA SILVA       17\n",
              "MARIA ALVES DA SILVA            16\n",
              "ANTONIO CARLOS DA SILVA         15\n",
              "FRANCISCO RODRIGUES DA SILVA    15\n",
              "MARIA LUCIA DA SILVA            15\n",
              "FRANCISCO JOSE DE OLIVEIRA      14\n",
              "MARIA SOCORRO DA SILVA          14\n",
              "JOSE MARIA DA SILVA             13\n",
              "FRANCISCO DE ASSIS DA SILVA     13\n",
              "MARIA JOSE DE OLIVEIRA          13\n",
              "JOSE ALVES DA SILVA             13\n",
              "FRANCISCO FERREIRA DA SILVA     13\n",
              "MARIA FERREIRA DA SILVA         12\n",
              "MARIA PEREIRA DA SILVA          12\n",
              "Name: Servidor, dtype: int64"
            ]
          },
          "metadata": {
            "tags": []
          },
          "execution_count": 43
        }
      ]
    },
    {
      "cell_type": "markdown",
      "metadata": {
        "id": "m2vaWfZMESZz",
        "colab_type": "text"
      },
      "source": [
        "### Conclusão - Acumulação de Cargos\n",
        "\n",
        "Sem o cpf, mesmo com algum grau de mascaramento, há uma excessiva quantidade de falsos positivos, impossibilitando a análise de acumulação de cargos e cruzamento com outras fontes. Solicitar a inclusão do CPF mascarado no Portal da Transparência Ceará Transparente para proporcionar o controle social de acumulação de cargos públicos.\n",
        "\n",
        "Solicitação realizada via Ouvidoria da CGE-CE em 07/05/2020."
      ]
    },
    {
      "cell_type": "code",
      "metadata": {
        "id": "FZvFAnQ-KPZT",
        "colab_type": "code",
        "colab": {}
      },
      "source": [
        ""
      ],
      "execution_count": 0,
      "outputs": []
    }
  ]
}