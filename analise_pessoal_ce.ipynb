{
  "nbformat": 4,
  "nbformat_minor": 0,
  "metadata": {
    "colab": {
      "name": "analise_pessoal_ce.ipynb",
      "provenance": [],
      "collapsed_sections": [],
      "toc_visible": true,
      "authorship_tag": "ABX9TyO1kiykEk/T36ZKyI7pms70",
      "include_colab_link": true
    },
    "kernelspec": {
      "name": "python3",
      "display_name": "Python 3"
    }
  },
  "cells": [
    {
      "cell_type": "markdown",
      "metadata": {
        "id": "view-in-github",
        "colab_type": "text"
      },
      "source": [
        "<a href=\"https://colab.research.google.com/github/tmalveirac/pessoal_ceara/blob/master/analise_pessoal_ce.ipynb\" target=\"_parent\"><img src=\"https://colab.research.google.com/assets/colab-badge.svg\" alt=\"Open In Colab\"/></a>"
      ]
    },
    {
      "cell_type": "markdown",
      "metadata": {
        "id": "icwGhaCxp6xA",
        "colab_type": "text"
      },
      "source": [
        "# Análise Pessoal Ceará - Dados 03/2020\n",
        "\n",
        "Fonte: https://cearatransparente.ce.gov.br/"
      ]
    },
    {
      "cell_type": "code",
      "metadata": {
        "id": "leY8yvepqHTo",
        "colab_type": "code",
        "colab": {}
      },
      "source": [
        "import pandas as pd\n",
        "import matplotlib.pyplot as plt\n",
        "pd.options.display.float_format = '{:,.2f}'.format\n",
        "plt.rcParams['figure.figsize'] = (20,7)"
      ],
      "execution_count": 0,
      "outputs": []
    },
    {
      "cell_type": "markdown",
      "metadata": {
        "id": "PBK9tozfqb_5",
        "colab_type": "text"
      },
      "source": [
        "### Importação e tratamento inicial dos dados"
      ]
    },
    {
      "cell_type": "code",
      "metadata": {
        "id": "8qTIG_KGqKUO",
        "colab_type": "code",
        "colab": {
          "base_uri": "https://localhost:8080/",
          "height": 305
        },
        "outputId": "0ee0d847-e977-45b1-bc06-75c119aaa51c"
      },
      "source": [
        "df = pd.read_csv('/content/CE_202003.csv', header=None, names=['Servidor',\t'Órgão/Entidade',\t'Cargo/Função/Emprego',\t'Situação funcional',\t'Total descontos',\t'Abatimento em função do teto constitucional',\t'Outros descontos',\t'Salário bruto',\t'Salário líquido',\t'Diárias'])\n",
        "print(df.shape)\n",
        "df.describe()"
      ],
      "execution_count": 124,
      "outputs": [
        {
          "output_type": "stream",
          "text": [
            "(169619, 10)\n"
          ],
          "name": "stdout"
        },
        {
          "output_type": "execute_result",
          "data": {
            "text/html": [
              "<div>\n",
              "<style scoped>\n",
              "    .dataframe tbody tr th:only-of-type {\n",
              "        vertical-align: middle;\n",
              "    }\n",
              "\n",
              "    .dataframe tbody tr th {\n",
              "        vertical-align: top;\n",
              "    }\n",
              "\n",
              "    .dataframe thead th {\n",
              "        text-align: right;\n",
              "    }\n",
              "</style>\n",
              "<table border=\"1\" class=\"dataframe\">\n",
              "  <thead>\n",
              "    <tr style=\"text-align: right;\">\n",
              "      <th></th>\n",
              "      <th>Total descontos</th>\n",
              "      <th>Abatimento em função do teto constitucional</th>\n",
              "      <th>Outros descontos</th>\n",
              "      <th>Salário bruto</th>\n",
              "      <th>Salário líquido</th>\n",
              "      <th>Diárias</th>\n",
              "    </tr>\n",
              "  </thead>\n",
              "  <tbody>\n",
              "    <tr>\n",
              "      <th>count</th>\n",
              "      <td>169,619.00</td>\n",
              "      <td>169,619.00</td>\n",
              "      <td>169,619.00</td>\n",
              "      <td>169,619.00</td>\n",
              "      <td>169,619.00</td>\n",
              "      <td>169,619.00</td>\n",
              "    </tr>\n",
              "    <tr>\n",
              "      <th>mean</th>\n",
              "      <td>1,405.23</td>\n",
              "      <td>50.63</td>\n",
              "      <td>1,354.60</td>\n",
              "      <td>4,410.97</td>\n",
              "      <td>3,005.74</td>\n",
              "      <td>4.19</td>\n",
              "    </tr>\n",
              "    <tr>\n",
              "      <th>std</th>\n",
              "      <td>2,436.99</td>\n",
              "      <td>683.26</td>\n",
              "      <td>2,191.78</td>\n",
              "      <td>4,743.46</td>\n",
              "      <td>2,715.76</td>\n",
              "      <td>72.15</td>\n",
              "    </tr>\n",
              "    <tr>\n",
              "      <th>min</th>\n",
              "      <td>0.00</td>\n",
              "      <td>0.00</td>\n",
              "      <td>0.00</td>\n",
              "      <td>0.03</td>\n",
              "      <td>0.00</td>\n",
              "      <td>0.00</td>\n",
              "    </tr>\n",
              "    <tr>\n",
              "      <th>25%</th>\n",
              "      <td>164.33</td>\n",
              "      <td>0.00</td>\n",
              "      <td>164.33</td>\n",
              "      <td>1,537.28</td>\n",
              "      <td>1,254.18</td>\n",
              "      <td>0.00</td>\n",
              "    </tr>\n",
              "    <tr>\n",
              "      <th>50%</th>\n",
              "      <td>622.84</td>\n",
              "      <td>0.00</td>\n",
              "      <td>622.14</td>\n",
              "      <td>3,279.25</td>\n",
              "      <td>2,464.00</td>\n",
              "      <td>0.00</td>\n",
              "    </tr>\n",
              "    <tr>\n",
              "      <th>75%</th>\n",
              "      <td>1,766.99</td>\n",
              "      <td>0.00</td>\n",
              "      <td>1,764.49</td>\n",
              "      <td>5,614.96</td>\n",
              "      <td>3,762.18</td>\n",
              "      <td>0.00</td>\n",
              "    </tr>\n",
              "    <tr>\n",
              "      <th>max</th>\n",
              "      <td>50,136.81</td>\n",
              "      <td>40,428.69</td>\n",
              "      <td>41,213.25</td>\n",
              "      <td>156,755.80</td>\n",
              "      <td>115,542.55</td>\n",
              "      <td>14,313.32</td>\n",
              "    </tr>\n",
              "  </tbody>\n",
              "</table>\n",
              "</div>"
            ],
            "text/plain": [
              "       Total descontos  ...    Diárias\n",
              "count       169,619.00  ... 169,619.00\n",
              "mean          1,405.23  ...       4.19\n",
              "std           2,436.99  ...      72.15\n",
              "min               0.00  ...       0.00\n",
              "25%             164.33  ...       0.00\n",
              "50%             622.84  ...       0.00\n",
              "75%           1,766.99  ...       0.00\n",
              "max          50,136.81  ...  14,313.32\n",
              "\n",
              "[8 rows x 6 columns]"
            ]
          },
          "metadata": {
            "tags": []
          },
          "execution_count": 124
        }
      ]
    },
    {
      "cell_type": "code",
      "metadata": {
        "id": "PZzTahY710S6",
        "colab_type": "code",
        "colab": {}
      },
      "source": [
        "df['salario_com_abate_teto'] = df['Salário bruto'] - df['Abatimento em função do teto constitucional']"
      ],
      "execution_count": 0,
      "outputs": []
    },
    {
      "cell_type": "markdown",
      "metadata": {
        "id": "jODPNKgyupfj",
        "colab_type": "text"
      },
      "source": [
        "### Análise exploratória - Por Órgão"
      ]
    },
    {
      "cell_type": "code",
      "metadata": {
        "id": "vO7LFQtByTkI",
        "colab_type": "code",
        "colab": {
          "base_uri": "https://localhost:8080/",
          "height": 176
        },
        "outputId": "068d9993-53de-45a1-cab2-dfb316143ee0"
      },
      "source": [
        "#Qtd por órgão\n",
        "qtd_orgao_df = df['Órgão/Entidade'].value_counts()\n",
        "qtd_orgao_df.describe()"
      ],
      "execution_count": 126,
      "outputs": [
        {
          "output_type": "execute_result",
          "data": {
            "text/plain": [
              "count       55.00\n",
              "mean     3,083.98\n",
              "std      8,663.76\n",
              "min         16.00\n",
              "25%        106.00\n",
              "50%        312.00\n",
              "75%      1,604.50\n",
              "max     52,681.00\n",
              "Name: Órgão/Entidade, dtype: float64"
            ]
          },
          "metadata": {
            "tags": []
          },
          "execution_count": 126
        }
      ]
    },
    {
      "cell_type": "code",
      "metadata": {
        "id": "Br3zbkei5GCh",
        "colab_type": "code",
        "colab": {
          "base_uri": "https://localhost:8080/",
          "height": 212
        },
        "outputId": "92cfdbfc-ec7f-4be3-907f-91974506eb95"
      },
      "source": [
        "#Quantidade em Percentual \n",
        "df['Órgão/Entidade'].value_counts(normalize=True).sort_values(ascending=False).head(10) * 100"
      ],
      "execution_count": 127,
      "outputs": [
        {
          "output_type": "execute_result",
          "data": {
            "text/plain": [
              "SEDUC        31.06\n",
              "PMCE         18.86\n",
              "SEDUC-CPTD   10.97\n",
              "SESA          9.25\n",
              "SUPSEC        4.21\n",
              "SESA-ACS      3.96\n",
              "PC            3.19\n",
              "SAP           2.56\n",
              "FUNECE        1.55\n",
              "SEFAZ         1.54\n",
              "Name: Órgão/Entidade, dtype: float64"
            ]
          },
          "metadata": {
            "tags": []
          },
          "execution_count": 127
        }
      ]
    },
    {
      "cell_type": "code",
      "metadata": {
        "id": "-D7Qz6x4zK8M",
        "colab_type": "code",
        "colab": {
          "base_uri": "https://localhost:8080/",
          "height": 212
        },
        "outputId": "4b15857d-3cc5-430b-bc88-c7a4c18ac642"
      },
      "source": [
        "qtd_orgao_df.sort_values(ascending=False).tail(10)"
      ],
      "execution_count": 128,
      "outputs": [
        {
          "output_type": "execute_result",
          "data": {
            "text/plain": [
              "CIDADES     76\n",
              "SECITECE    74\n",
              "ARCE        71\n",
              "SEMA        47\n",
              "SEDET       40\n",
              "FUNCAP      38\n",
              "SETUR       37\n",
              "IPECE       30\n",
              "EGPCE       21\n",
              "VICEGOV     16\n",
              "Name: Órgão/Entidade, dtype: int64"
            ]
          },
          "metadata": {
            "tags": []
          },
          "execution_count": 128
        }
      ]
    },
    {
      "cell_type": "code",
      "metadata": {
        "id": "8MjqprTUutJZ",
        "colab_type": "code",
        "colab": {
          "base_uri": "https://localhost:8080/",
          "height": 443
        },
        "outputId": "f4391509-520d-40f1-8e8e-f91a114e4a40"
      },
      "source": [
        "qtd_orgao_df.sort_values(ascending=False).head(10).plot(kind='bar')\n",
        "plt.grid(axis='y')\n",
        "plt.xticks(rotation='45')\n",
        "plt.show()"
      ],
      "execution_count": 129,
      "outputs": [
        {
          "output_type": "display_data",
          "data": {
            "image/png": "[encoded data removed]",
            "text/plain": [
              "<Figure size 1440x504 with 1 Axes>"
            ]
          },
          "metadata": {
            "tags": [],
            "needs_background": "light"
          }
        }
      ]
    },
    {
      "cell_type": "code",
      "metadata": {
        "id": "ElWs7dUHuuL-",
        "colab_type": "code",
        "colab": {
          "base_uri": "https://localhost:8080/",
          "height": 176
        },
        "outputId": "192104f8-d8d0-45c9-c57c-679349c19a73"
      },
      "source": [
        "#Valor por órgão\n",
        "valor_orgao_df = df.groupby('Órgão/Entidade')['salario_com_abate_teto'].sum()\n",
        "valor_orgao_df.describe()"
      ],
      "execution_count": 130,
      "outputs": [
        {
          "output_type": "execute_result",
          "data": {
            "text/plain": [
              "count            55.00\n",
              "mean     13,447,212.01\n",
              "std      33,625,913.63\n",
              "min          53,801.91\n",
              "25%         450,920.69\n",
              "50%       1,389,427.14\n",
              "75%       7,574,280.98\n",
              "max     177,845,872.23\n",
              "Name: salario_com_abate_teto, dtype: float64"
            ]
          },
          "metadata": {
            "tags": []
          },
          "execution_count": 130
        }
      ]
    },
    {
      "cell_type": "code",
      "metadata": {
        "id": "t1uYlMVXzi6C",
        "colab_type": "code",
        "colab": {
          "base_uri": "https://localhost:8080/",
          "height": 230
        },
        "outputId": "2dc4c9ac-df91-4071-f863-26e44556da54"
      },
      "source": [
        "valor_orgao_df.sort_values(ascending=False).tail(10)"
      ],
      "execution_count": 131,
      "outputs": [
        {
          "output_type": "execute_result",
          "data": {
            "text/plain": [
              "Órgão/Entidade\n",
              "SECITECE   355,344.45\n",
              "SEJUV      284,009.79\n",
              "IPECE      275,751.26\n",
              "CEE        211,146.72\n",
              "SEDET      202,880.07\n",
              "SEMA       168,005.71\n",
              "SETUR      140,531.14\n",
              "FUNCAP      93,933.45\n",
              "VICEGOV     91,955.37\n",
              "EGPCE       53,801.91\n",
              "Name: salario_com_abate_teto, dtype: float64"
            ]
          },
          "metadata": {
            "tags": []
          },
          "execution_count": 131
        }
      ]
    },
    {
      "cell_type": "code",
      "metadata": {
        "id": "fBQXh17k-DLU",
        "colab_type": "code",
        "colab": {
          "base_uri": "https://localhost:8080/",
          "height": 230
        },
        "outputId": "a140426f-99eb-45f5-8ce8-be8c7ffbf95d"
      },
      "source": [
        "#Valor em Percentual\n",
        "valor_perc_orgao_df = valor_orgao_df * 100 / valor_orgao_df.sum()\n",
        "valor_perc_orgao_df.sort_values(ascending=False).head(10)"
      ],
      "execution_count": 155,
      "outputs": [
        {
          "output_type": "execute_result",
          "data": {
            "text/plain": [
              "Órgão/Entidade\n",
              "SEDUC        24.05\n",
              "PMCE         22.01\n",
              "SEFAZ         8.59\n",
              "SESA          7.56\n",
              "PC            5.36\n",
              "SEDUC-CPTD    4.30\n",
              "SUPSEC        3.96\n",
              "SAP           3.43\n",
              "FUNECE        3.32\n",
              "CBMCE         2.44\n",
              "Name: salario_com_abate_teto, dtype: float64"
            ]
          },
          "metadata": {
            "tags": []
          },
          "execution_count": 155
        }
      ]
    },
    {
      "cell_type": "code",
      "metadata": {
        "id": "JOTjsYDuy2ud",
        "colab_type": "code",
        "colab": {
          "base_uri": "https://localhost:8080/",
          "height": 473
        },
        "outputId": "fb70988c-6e10-4220-9230-c61178401c65"
      },
      "source": [
        "valor_orgao_df.sort_values(ascending=False).head(10).plot(kind='bar')\n",
        "plt.grid(axis='y')\n",
        "plt.ticklabel_format(axis=\"y\", style=\"sci\", scilimits=(6,6)) #Em milhões\n",
        "plt.xticks(rotation='45')\n",
        "plt.show()"
      ],
      "execution_count": 132,
      "outputs": [
        {
          "output_type": "display_data",
          "data": {
            "image/png": "[encoded data removed]",
            "text/plain": [
              "<Figure size 1440x504 with 1 Axes>"
            ]
          },
          "metadata": {
            "tags": [],
            "needs_background": "light"
          }
        }
      ]
    },
    {
      "cell_type": "markdown",
      "metadata": {
        "id": "PDn52tU5z1Sv",
        "colab_type": "text"
      },
      "source": [
        "### Análise exploratória - Por Cargo"
      ]
    },
    {
      "cell_type": "code",
      "metadata": {
        "id": "73yMn7Bgz28z",
        "colab_type": "code",
        "colab": {
          "base_uri": "https://localhost:8080/",
          "height": 176
        },
        "outputId": "76d70633-a7db-4bb3-ce72-12ad1043088f"
      },
      "source": [
        "#Qtd por cargo\n",
        "qtd_cargo_df = df['Cargo/Função/Emprego'].value_counts()\n",
        "qtd_cargo_df.describe()"
      ],
      "execution_count": 144,
      "outputs": [
        {
          "output_type": "execute_result",
          "data": {
            "text/plain": [
              "count      600.00\n",
              "mean       278.77\n",
              "std      1,912.94\n",
              "min          1.00\n",
              "25%          1.00\n",
              "50%          5.50\n",
              "75%         45.00\n",
              "max     38,803.00\n",
              "Name: Cargo/Função/Emprego, dtype: float64"
            ]
          },
          "metadata": {
            "tags": []
          },
          "execution_count": 144
        }
      ]
    },
    {
      "cell_type": "code",
      "metadata": {
        "id": "68toDUoH7N-E",
        "colab_type": "code",
        "colab": {
          "base_uri": "https://localhost:8080/",
          "height": 212
        },
        "outputId": "c6b6a72b-2637-49e7-c104-56e270cb315f"
      },
      "source": [
        "#Quantidade em Percentual \n",
        "df['Cargo/Função/Emprego'].value_counts(normalize=True).sort_values(ascending=False).head(10) * 100"
      ],
      "execution_count": 145,
      "outputs": [
        {
          "output_type": "execute_result",
          "data": {
            "text/plain": [
              "PROFESSOR                     23.20\n",
              "PROF CTPD LP                  10.17\n",
              "SOLDADO PRONTO                 5.77\n",
              "AUXILIAR DE SERVICOS GERAIS    5.74\n",
              "PENSAO CIVIL                   4.54\n",
              "AG COMUN SAUDE                 4.02\n",
              "AGENTE DE ADMINISTRACAO        2.85\n",
              "PEN MONTEP MIL                 2.76\n",
              "CABO                           2.63\n",
              "SUBTENENTE                     2.34\n",
              "Name: Cargo/Função/Emprego, dtype: float64"
            ]
          },
          "metadata": {
            "tags": []
          },
          "execution_count": 145
        }
      ]
    },
    {
      "cell_type": "code",
      "metadata": {
        "id": "9nr16UOA0Auh",
        "colab_type": "code",
        "colab": {
          "base_uri": "https://localhost:8080/",
          "height": 516
        },
        "outputId": "45aa33a5-d425-46a8-8d28-73b378bece1e"
      },
      "source": [
        "qtd_cargo_df.sort_values(ascending=False).head(10).plot(kind='bar')\n",
        "plt.grid(axis='y')\n",
        "plt.xticks(rotation='45')\n",
        "plt.show()"
      ],
      "execution_count": 134,
      "outputs": [
        {
          "output_type": "display_data",
          "data": {
            "image/png": "[encoded data removed]",
            "text/plain": [
              "<Figure size 1440x504 with 1 Axes>"
            ]
          },
          "metadata": {
            "tags": [],
            "needs_background": "light"
          }
        }
      ]
    },
    {
      "cell_type": "code",
      "metadata": {
        "id": "x8tiZvwa0NYV",
        "colab_type": "code",
        "colab": {
          "base_uri": "https://localhost:8080/",
          "height": 176
        },
        "outputId": "ddb4111f-1eb8-45a5-e4a6-86e332df7295"
      },
      "source": [
        "#Valor por órgão\n",
        "valor_cargo_df = df.groupby('Cargo/Função/Emprego')['salario_com_abate_teto'].sum()\n",
        "valor_cargo_df.describe()"
      ],
      "execution_count": 135,
      "outputs": [
        {
          "output_type": "execute_result",
          "data": {
            "text/plain": [
              "count           600.00\n",
              "mean      1,224,006.13\n",
              "std       8,277,203.07\n",
              "min              58.05\n",
              "25%           8,412.41\n",
              "50%          22,155.83\n",
              "75%         215,540.16\n",
              "max     182,465,838.05\n",
              "Name: salario_com_abate_teto, dtype: float64"
            ]
          },
          "metadata": {
            "tags": []
          },
          "execution_count": 135
        }
      ]
    },
    {
      "cell_type": "code",
      "metadata": {
        "id": "gSusDU_W1YmG",
        "colab_type": "code",
        "colab": {
          "base_uri": "https://localhost:8080/",
          "height": 230
        },
        "outputId": "86b25abb-ac92-4038-9c8a-d91a2de2b703"
      },
      "source": [
        "valor_cargo_df.sort_values(ascending=False).tail(10)"
      ],
      "execution_count": 136,
      "outputs": [
        {
          "output_type": "execute_result",
          "data": {
            "text/plain": [
              "Cargo/Função/Emprego\n",
              "ARQUIVISTA TAPE               1,045.00\n",
              "PROGRAM MUSICAL               1,045.00\n",
              "PRESTADOR DE SERVICO          1,045.00\n",
              "AGENTE ADM POL                1,045.00\n",
              "ASSIST JURIDICO               1,045.00\n",
              "AUX SERV SAUDE                1,045.00\n",
              "ASSESSOR EXECUTIVO DO PACTO     990.42\n",
              "Delegado Adjunto I              814.28\n",
              "PREST SERVICOS                  225.58\n",
              "DAS-1 - COORDENADOR ESCOLAR      58.05\n",
              "Name: salario_com_abate_teto, dtype: float64"
            ]
          },
          "metadata": {
            "tags": []
          },
          "execution_count": 136
        }
      ]
    },
    {
      "cell_type": "code",
      "metadata": {
        "id": "Bt10wSWY-LcD",
        "colab_type": "code",
        "colab": {
          "base_uri": "https://localhost:8080/",
          "height": 230
        },
        "outputId": "57fb159c-9c43-4bb8-d39a-59bc4a69741f"
      },
      "source": [
        "#Valor em Percentual\n",
        "valor_perc_cargo_df = valor_cargo_df * 100 / valor_orgao_df.sum()\n",
        "valor_perc_cargo_df.sort_values(ascending=False).head(10)"
      ],
      "execution_count": 156,
      "outputs": [
        {
          "output_type": "execute_result",
          "data": {
            "text/plain": [
              "Cargo/Função/Emprego\n",
              "PROFESSOR                                    24.67\n",
              "SOLDADO PRONTO                                6.04\n",
              "PROF CTPD LP                                  3.96\n",
              "PENSAO CIVIL                                  3.66\n",
              "SUBTENENTE                                    3.47\n",
              "AGENTE PENITENCIARIO                          3.17\n",
              "AUDITOR FISCAL DA RECEITA ESTADUAL            3.03\n",
              "MEDICO                                        2.87\n",
              "CABO                                          2.85\n",
              "AUDITOR FISCAL ADJUNTO DA RECEITA ESTADUAL    2.59\n",
              "Name: salario_com_abate_teto, dtype: float64"
            ]
          },
          "metadata": {
            "tags": []
          },
          "execution_count": 156
        }
      ]
    },
    {
      "cell_type": "code",
      "metadata": {
        "id": "n0jjKkPp0zeh",
        "colab_type": "code",
        "colab": {
          "base_uri": "https://localhost:8080/",
          "height": 577
        },
        "outputId": "9ba40905-872d-4f7a-a090-bbb68b53994a"
      },
      "source": [
        "valor_cargo_df.sort_values(ascending=False).head(10).plot(kind='bar')\n",
        "plt.grid(axis='y')\n",
        "plt.ticklabel_format(axis=\"y\", style=\"sci\", scilimits=(6,6)) #Em milhões\n",
        "plt.xticks(rotation='45')\n",
        "plt.show()"
      ],
      "execution_count": 137,
      "outputs": [
        {
          "output_type": "display_data",
          "data": {
            "image/png": "[encoded data removed]",
            "text/plain": [
              "<Figure size 1440x504 with 1 Axes>"
            ]
          },
          "metadata": {
            "tags": [],
            "needs_background": "light"
          }
        }
      ]
    },
    {
      "cell_type": "markdown",
      "metadata": {
        "id": "EGSQCDJu2qOb",
        "colab_type": "text"
      },
      "source": [
        "### Análise exploratória - Por Situação Funcional"
      ]
    },
    {
      "cell_type": "code",
      "metadata": {
        "id": "UYjpd53x2tOW",
        "colab_type": "code",
        "colab": {
          "base_uri": "https://localhost:8080/",
          "height": 176
        },
        "outputId": "2177a576-b6a0-4ce2-fa60-5d8ef21c4fd0"
      },
      "source": [
        "#Qtd por Situação funcional\n",
        "qtd_sit_df = df['Situação funcional'].value_counts()\n",
        "qtd_sit_df.describe()"
      ],
      "execution_count": 146,
      "outputs": [
        {
          "output_type": "execute_result",
          "data": {
            "text/plain": [
              "count         4.00\n",
              "mean     41,849.50\n",
              "std      43,594.36\n",
              "min         703.00\n",
              "25%      14,458.00\n",
              "50%      33,003.00\n",
              "75%      60,394.50\n",
              "max     100,689.00\n",
              "Name: Situação funcional, dtype: float64"
            ]
          },
          "metadata": {
            "tags": []
          },
          "execution_count": 146
        }
      ]
    },
    {
      "cell_type": "code",
      "metadata": {
        "id": "gBRqx0VJ72cb",
        "colab_type": "code",
        "colab": {
          "base_uri": "https://localhost:8080/",
          "height": 105
        },
        "outputId": "a64710bb-cd88-4226-f326-5d51424b6cb8"
      },
      "source": [
        "#Quantidade em Percentual \n",
        "df['Situação funcional'].value_counts(normalize=True).sort_values(ascending=False).head(10) * 100"
      ],
      "execution_count": 147,
      "outputs": [
        {
          "output_type": "execute_result",
          "data": {
            "text/plain": [
              "Ativo                 60.15\n",
              "Aposentado            28.05\n",
              "Pensionista           11.38\n",
              "Estagiágio/Bolsista    0.42\n",
              "Name: Situação funcional, dtype: float64"
            ]
          },
          "metadata": {
            "tags": []
          },
          "execution_count": 147
        }
      ]
    },
    {
      "cell_type": "code",
      "metadata": {
        "id": "GTG0XQsI21BG",
        "colab_type": "code",
        "colab": {
          "base_uri": "https://localhost:8080/",
          "height": 474
        },
        "outputId": "df552e0f-e27f-4db3-d1ac-27e87c449750"
      },
      "source": [
        "qtd_sit_df.sort_values(ascending=False).head(10).plot(kind='bar')\n",
        "plt.grid(axis='y')\n",
        "plt.xticks(rotation='45')\n",
        "plt.show()"
      ],
      "execution_count": 139,
      "outputs": [
        {
          "output_type": "display_data",
          "data": {
            "image/png": "[encoded data removed]",
            "text/plain": [
              "<Figure size 1440x504 with 1 Axes>"
            ]
          },
          "metadata": {
            "tags": [],
            "needs_background": "light"
          }
        }
      ]
    },
    {
      "cell_type": "code",
      "metadata": {
        "id": "8KtKkyq-26_s",
        "colab_type": "code",
        "colab": {
          "base_uri": "https://localhost:8080/",
          "height": 176
        },
        "outputId": "4b1d48d0-b97a-4baf-a0ec-9eff66c0fd65"
      },
      "source": [
        "#Valor por situação\n",
        "valor_sit_df = df.groupby('Situação funcional')['salario_com_abate_teto'].sum()\n",
        "valor_sit_df.describe()"
      ],
      "execution_count": 140,
      "outputs": [
        {
          "output_type": "execute_result",
          "data": {
            "text/plain": [
              "count             4.00\n",
              "mean    181,870,813.91\n",
              "std     212,037,616.87\n",
              "min         370,235.72\n",
              "25%      48,780,527.02\n",
              "50%     124,080,382.79\n",
              "75%     257,170,669.68\n",
              "max     478,952,254.35\n",
              "Name: salario_com_abate_teto, dtype: float64"
            ]
          },
          "metadata": {
            "tags": []
          },
          "execution_count": 140
        }
      ]
    },
    {
      "cell_type": "code",
      "metadata": {
        "id": "Q5WGmBTr3LRU",
        "colab_type": "code",
        "colab": {
          "base_uri": "https://localhost:8080/",
          "height": 123
        },
        "outputId": "6dd09527-e691-4a83-e07f-a2f9ce2b1474"
      },
      "source": [
        "valor_sit_df.sort_values(ascending=False).tail(10)"
      ],
      "execution_count": 141,
      "outputs": [
        {
          "output_type": "execute_result",
          "data": {
            "text/plain": [
              "Situação funcional\n",
              "Ativo                 478,952,254.35\n",
              "Aposentado            183,243,474.79\n",
              "Pensionista            64,917,290.78\n",
              "Estagiágio/Bolsista       370,235.72\n",
              "Name: salario_com_abate_teto, dtype: float64"
            ]
          },
          "metadata": {
            "tags": []
          },
          "execution_count": 141
        }
      ]
    },
    {
      "cell_type": "code",
      "metadata": {
        "id": "SXJ2ehU6-VMn",
        "colab_type": "code",
        "colab": {
          "base_uri": "https://localhost:8080/",
          "height": 123
        },
        "outputId": "68925faa-9716-4f86-d519-62c8e3ae8759"
      },
      "source": [
        "#Percentual\n",
        "valor_perc_sit_df = valor_sit_df * 100 / valor_sit_df.sum()\n",
        "valor_perc_sit_df.sort_values(ascending=False)"
      ],
      "execution_count": 157,
      "outputs": [
        {
          "output_type": "execute_result",
          "data": {
            "text/plain": [
              "Situação funcional\n",
              "Ativo                 65.84\n",
              "Aposentado            25.19\n",
              "Pensionista            8.92\n",
              "Estagiágio/Bolsista    0.05\n",
              "Name: salario_com_abate_teto, dtype: float64"
            ]
          },
          "metadata": {
            "tags": []
          },
          "execution_count": 157
        }
      ]
    },
    {
      "cell_type": "code",
      "metadata": {
        "id": "HqYoyZiI3PeD",
        "colab_type": "code",
        "colab": {
          "base_uri": "https://localhost:8080/",
          "height": 492
        },
        "outputId": "cec83281-0640-4cfc-e5b0-eebbb58556f3"
      },
      "source": [
        "valor_sit_df.sort_values(ascending=False).head(10).plot(kind='bar')\n",
        "plt.grid(axis='y')\n",
        "plt.ticklabel_format(axis=\"y\", style=\"sci\", scilimits=(6,6)) #Em milhões\n",
        "plt.xticks(rotation='45')\n",
        "plt.show()"
      ],
      "execution_count": 142,
      "outputs": [
        {
          "output_type": "display_data",
          "data": {
            "image/png": "[encoded data removed]",
            "text/plain": [
              "<Figure size 1440x504 with 1 Axes>"
            ]
          },
          "metadata": {
            "tags": [],
            "needs_background": "light"
          }
        }
      ]
    },
    {
      "cell_type": "code",
      "metadata": {
        "id": "gAgssYY73eWr",
        "colab_type": "code",
        "colab": {
          "base_uri": "https://localhost:8080/",
          "height": 123
        },
        "outputId": "508ff54c-7c0b-4cc4-f199-9c43a8016285"
      },
      "source": [
        ""
      ],
      "execution_count": 153,
      "outputs": [
        {
          "output_type": "execute_result",
          "data": {
            "text/plain": [
              "Situação funcional\n",
              "Ativo                 65.84\n",
              "Aposentado            25.19\n",
              "Pensionista            8.92\n",
              "Estagiágio/Bolsista    0.05\n",
              "Name: salario_com_abate_teto, dtype: float64"
            ]
          },
          "metadata": {
            "tags": []
          },
          "execution_count": 153
        }
      ]
    },
    {
      "cell_type": "code",
      "metadata": {
        "id": "cKJQuoJa8CQ0",
        "colab_type": "code",
        "colab": {}
      },
      "source": [
        ""
      ],
      "execution_count": 0,
      "outputs": []
    }
  ]
}